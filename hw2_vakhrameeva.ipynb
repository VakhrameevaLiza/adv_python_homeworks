{
 "cells": [
  {
   "cell_type": "markdown",
   "metadata": {},
   "source": [
    "### Сторонние библиотеки использовать нельзя"
   ]
  },
  {
   "cell_type": "markdown",
   "metadata": {},
   "source": [
    "### Задача 0 [Библиотека] (0.15 балла)  \n",
    "\n",
    "**Условие:** \n",
    "\n",
    "\n",
    "В библиотеке хранятся книги и журналы. У каждой сущности есть общие характеристики, такие как: название, автор, жанр, число страниц, формат страниц, индекс редкости (от 1 до 10) и текст. Также у разных сущностей могут быть свои атрибуты. Хочется все редкие издания (индекс 9 или 10) дополнительно сохранять в некое хранилище (пусть json-файл), а также хочется понимать какую площадь занимает издание, если разложить все его страницы на полу.     \n",
    "\n",
    "\n",
    "**Комментарий:**\n",
    "\n",
    "Это задача с семинара на организацию иерархии классов. Идея в том, что нужно разделять сущности в зависимости от их применения. Например, есть книга как некий абстрактный объект, а есть библиотечная книга, у которой есть свои особенности. Также для сохранения книг в json нужно использвать классы-примеси.\n",
    "\n",
    "\n",
    "Иерархия классов:"
   ]
  },
  {
   "cell_type": "code",
   "execution_count": 10,
   "metadata": {},
   "outputs": [],
   "source": [
    "import datetime"
   ]
  },
  {
   "cell_type": "code",
   "execution_count": 1,
   "metadata": {},
   "outputs": [],
   "source": [
    "PAGES_FORMAT = {\n",
    "    'A1': (2048, 1024),\n",
    "    'A2': (1024, 512),\n",
    "    'A3': (512, 256),\n",
    "    'A4': (297, 210),\n",
    "}\n",
    "\n",
    "GENRES = (\n",
    "    \"Роман\",\n",
    "    \"Приключение\",\n",
    "    \"Драма\"\n",
    ")\n",
    "\n",
    "MAX_RARITY_IND = 10"
   ]
  },
  {
   "cell_type": "code",
   "execution_count": 2,
   "metadata": {},
   "outputs": [],
   "source": [
    "class ValueFromSet:\n",
    "    def __init__(self, name, values):\n",
    "        self.name = name\n",
    "        self._values = values\n",
    "        \n",
    "    def __set__(self, instance, value):\n",
    "        if value not in self._values:\n",
    "            raise ValueError(\"Неизвестное значение для {}: {}, должно быть одно из: {}\"\n",
    "                             .format(self.name, value, \", \".join(self._values)))\n",
    "        instance.__dict__[self.name] = value \n",
    "        \n",
    "    def __get__(self, instance, owner):\n",
    "        return instance.__dict__[self.name]"
   ]
  },
  {
   "cell_type": "code",
   "execution_count": 3,
   "metadata": {},
   "outputs": [],
   "source": [
    "class BoundedValue:\n",
    "    def __init__(self, name, _min, _max=None):\n",
    "        self._name = name\n",
    "        self._min = _min\n",
    "        self._max = _max\n",
    "        \n",
    "    def __set__(self, instance, value):\n",
    "        if self._min is not None and self._max is not None and not self._min <= value < self._max:\n",
    "            raise ValueError(\"Значение для {} должно быть от {} (вкл.) до {} (не вкл.)\"\n",
    "                             .format(self._name, self._min, self._max))\n",
    "        elif self._min is not None and not value >= self._min:\n",
    "            raise ValueError(\"Значение для {} должно быть больше или равно чем {}\"\n",
    "                             .format(self._name, self._min))\n",
    "        elif self._max is not None and not value < self._max:\n",
    "            raise ValueError(\"Значение для {} должно быть меньше {}\"\n",
    "                 .format(self._name, self._max))\n",
    "            \n",
    "        instance.__dict__[self._name] = value \n",
    "            \n",
    "    def __get__(self, instance, owner):\n",
    "        return instance.__dict__[self._name]"
   ]
  },
  {
   "cell_type": "code",
   "execution_count": 4,
   "metadata": {},
   "outputs": [],
   "source": [
    "class NonNegative(BoundedValue):\n",
    "    def __init__(self, name):\n",
    "        super(NonNegative, self).__init__(name, 0)"
   ]
  },
  {
   "cell_type": "code",
   "execution_count": 5,
   "metadata": {},
   "outputs": [],
   "source": [
    "class IntegerBounded(BoundedValue):\n",
    "    def __init__(self, name, min_, max_):\n",
    "        super().__init__(name, min_, max_)\n",
    "    \n",
    "    def __set__(self, instance, value):\n",
    "        if not type(value) == int:\n",
    "            raise ValueError(\"Значение для {} должно быть целочисленным\". format(self.name))\n",
    "        super(IntegerBounded, self).__set__(instance, value)"
   ]
  },
  {
   "cell_type": "code",
   "execution_count": 6,
   "metadata": {},
   "outputs": [],
   "source": [
    "class DatetimeType:\n",
    "    def __init__(self, name):\n",
    "        self._name = name\n",
    "    \n",
    "    def __set__(self, instance, value):\n",
    "        if not isinstance(value, datetime.date):\n",
    "            raise ValueError(\"Неправильный тип {}, создайте дату как datetime.date(y,m,d)\".format(self._name))\n",
    "        instance.__dict__[self._name] = value \n",
    "        \n",
    "    def __get__(self, instance, owner):\n",
    "        return instance.__dict__[self._name]       "
   ]
  },
  {
   "cell_type": "code",
   "execution_count": 7,
   "metadata": {},
   "outputs": [],
   "source": [
    "class BooleanType:\n",
    "    def __init__(self, name):\n",
    "        self._name = name\n",
    "        \n",
    "    def __set__(self, instance, value):\n",
    "        if isinstance(value, bool):\n",
    "            instance.__dict__[self._name] = value \n",
    "        elif isinstance(value, int) and (value == 0 or value == 1):\n",
    "            instance.__dict__[self._name] = bool(value)\n",
    "        else:\n",
    "            raise ValueError(\"Неправильный булевый тип {}\".format(self._name))\n",
    "            \n",
    "    def __get__(self, instance, owner):\n",
    "        return instance.__dict__[self._name]    "
   ]
  },
  {
   "cell_type": "code",
   "execution_count": 8,
   "metadata": {},
   "outputs": [],
   "source": [
    "class ReadableEntity:\n",
    "    \n",
    "    _page_format = ValueFromSet(\"формат страниц\", PAGES_FORMAT.keys())\n",
    "    _num_pages = NonNegative(\"число страниц\")\n",
    "    _genre = ValueFromSet(\"жанр\", GENRES)\n",
    "    _rarity_ind = IntegerBounded(\"индекс редкости\", 1, MAX_RARITY_IND+1)\n",
    "    _release_date = DatetimeType(\"дата выхода\")\n",
    "    \n",
    "    def __init__(self, **kwargs):\n",
    "        self._name = kwargs['name']\n",
    "        self._author = kwargs['author']\n",
    "        self._genre = kwargs['genre']\n",
    "        self._page_format = kwargs['page_format']\n",
    "        self._num_pages = kwargs['num_pages']\n",
    "        self._rarity_ind = kwargs['rarity_ind']\n",
    "        self._text = kwargs['text']\n",
    "        self._release_date = kwargs['release_date']\n",
    "    \n",
    "    def get_pages_area(self):\n",
    "        page_size = PAGES_FORMAT[self._page_format]\n",
    "        return self._num_pages * page_size[0] * page_size[1]\n",
    "\n",
    "    \n",
    "class Journal(ReadableEntity):\n",
    "    _num_release = NonNegative(\"номер выпуска\")\n",
    "    _num_cosmetic_samples_inside = NonNegative(\"количество косметических пробников внутри\")\n",
    "    \n",
    "    def __init__(self, **kwargs):\n",
    "        \n",
    "        self._num_release = kwargs['num_release']\n",
    "        self._num_cosmetic_samples_inside = kwargs['num_cosmetic_samples_inside']\n",
    "        \n",
    "        super(Journal, self).__init__(**kwargs)\n",
    "        \n",
    "        \n",
    "class Book(ReadableEntity):\n",
    "    _has_hard_cover = BooleanType(\"в твердой обложке\")\n",
    "    _print_date = DatetimeType(\"дата печати издания книги\")\n",
    "    \n",
    "    def __init__(self, **kwargs):\n",
    "        self._has_hard_cover = kwargs['has_hard_cover']\n",
    "        self._print_date = kwargs['print_date']\n",
    "        super(Book, self).__init__(**kwargs)\n",
    "        \n",
    "\n",
    "class Exporter:\n",
    "    \n",
    "    def export_to_txt(self, file_path):\n",
    "        with open(file_path, 'w') as f:\n",
    "            for key in self.__dict__:\n",
    "                f.write(\"{}: {}\".format(key, self.__dict__[key]))\n",
    "     \n",
    "    \n",
    "class LibraryJournal(Journal, Exporter):\n",
    "    def __init__(self, **kwargs):\n",
    "        if kwargs['rarity_ind'] >= 9:\n",
    "            self.export_to_txt(os.path.join(\"rare_journals\", \"{}.txt\".format(kwargs[name]))) \n",
    "        super(LibraryJournal, self).__init__(**kwargs)\n",
    "    \n",
    "\n",
    "\n",
    "class LibraryBook(Book, Exporter):\n",
    "    def __init__(self, **kwargs):\n",
    "        if kwargs['rarity_ind'] >= 9:\n",
    "            self.export_to_txt(os.path.join(\"rare_books\", \"{}.txt\".format(kwargs[name]))) \n",
    "        super(LibraryBook, self).__init__(**kwargs)"
   ]
  },
  {
   "cell_type": "code",
   "execution_count": 11,
   "metadata": {},
   "outputs": [],
   "source": [
    "book1 = LibraryBook(name=\"Book1\",\n",
    "                    author=\"Author\",\n",
    "                    genre=\"Роман\",\n",
    "                    page_format=\"A1\",\n",
    "                    num_pages=10,\n",
    "                    rarity_ind=1,\n",
    "                    text=\"text\",\n",
    "                    release_date=datetime.date(2010, 10, 1),\n",
    "                    has_hard_cover=False,\n",
    "                    print_date=datetime.date(2015, 6, 5),\n",
    "                    num_cosmetic_samples_inside=10,\n",
    "                    )"
   ]
  },
  {
   "cell_type": "code",
   "execution_count": 12,
   "metadata": {},
   "outputs": [
    {
     "data": {
      "text/plain": [
       "20971520"
      ]
     },
     "execution_count": 12,
     "metadata": {},
     "output_type": "execute_result"
    }
   ],
   "source": [
    "book1.get_pages_area()"
   ]
  },
  {
   "cell_type": "code",
   "execution_count": 13,
   "metadata": {},
   "outputs": [],
   "source": [
    "journal1 = LibraryJournal(name=\"LibraryJournal\",\n",
    "                    author=\"Author\",\n",
    "                    genre=\"Драма\",\n",
    "                    page_format=\"A1\",\n",
    "                    num_pages=100,\n",
    "                    rarity_ind=1,\n",
    "                    text=\"text_library_journal\",\n",
    "                    release_date=datetime.date(2010, 10, 1),\n",
    "                    has_hard_cover=False,\n",
    "                    num_release=25,\n",
    "                    num_cosmetic_samples_inside=5)"
   ]
  },
  {
   "cell_type": "code",
   "execution_count": 14,
   "metadata": {},
   "outputs": [
    {
     "data": {
      "text/plain": [
       "209715200"
      ]
     },
     "execution_count": 14,
     "metadata": {},
     "output_type": "execute_result"
    }
   ],
   "source": [
    "journal1.get_pages_area()"
   ]
  },
  {
   "cell_type": "code",
   "execution_count": 15,
   "metadata": {},
   "outputs": [
    {
     "name": "stdout",
     "output_type": "stream",
     "text": [
      "Неизвестное значение для жанр: Жанр, должно быть одно из: Роман, Приключение, Драма\n"
     ]
    }
   ],
   "source": [
    "try:\n",
    "    journal1 = LibraryJournal(name=\"LibraryJournal\",\n",
    "                        author=\"Author\",\n",
    "                        genre=\"Жанр\",\n",
    "                        page_format=\"A1\",\n",
    "                        num_pages=100,\n",
    "                        rarity_ind=1,\n",
    "                        text=\"text_library_journal\",\n",
    "                        release_date=datetime.date(2010, 10, 1),\n",
    "                        has_hard_cover=False,\n",
    "                        num_release=25,\n",
    "                        num_cosmetic_samples_inside=5)\n",
    "except Exception as e:\n",
    "    print(e)"
   ]
  },
  {
   "cell_type": "code",
   "execution_count": null,
   "metadata": {},
   "outputs": [],
   "source": []
  },
  {
   "cell_type": "markdown",
   "metadata": {},
   "source": [
    "### Задача 1 [Размер объектов] (0 - 0.15 балла)  \n",
    "\n",
    "**Условие:** \n",
    "\n",
    "Написать функцию получения реального объема занимаемой объектом памяти объектом. \n",
    "\n",
    "\n",
    "1) Для int, str, list, tuple, dict **(0.05 балла)**\n",
    "\n",
    "2) Для всех типов **(+0.1 балла)**\n",
    "\n",
    "\n",
    "**Комментарий:**\n",
    "\n",
    "На занятиях не раз говорилось, что `sys.getsizeof` умеет находить размер простых объектов, но если речь идет об объектах, вроде list, то функция вернет не совсем то, что может ожидать разработчик, потому что список хранит указатели на объекты. \n",
    "\n",
    "*Пример:*\n",
    "```\n",
    "sys.getsizeof([]) == 64\n",
    "sys.getsizeof(['aaaaaaa']) == 72\n",
    "```\n",
    "Но\n",
    "```\n",
    "sys.getsizeof('aaaaaaa') == 56\n",
    "```\n"
   ]
  },
  {
   "cell_type": "code",
   "execution_count": 16,
   "metadata": {},
   "outputs": [],
   "source": [
    "import sys\n",
    "\n",
    "def get_size_of(obj, seen=None):\n",
    "    def get_size_of_dict(d):\n",
    "        size = 0\n",
    "        \n",
    "        size += sum([get_size_of(v) for v in d.values()])\n",
    "        size += sum([get_size_of(k) for k in d.keys()])\n",
    "        \n",
    "        return size\n",
    "        #return sum([get_size_of(t) for t in d.items()])\n",
    "    \n",
    "    if seen is None:\n",
    "        seen = set()\n",
    "        \n",
    "    _id = id(obj)\n",
    "    if _id in seen:\n",
    "        return 0\n",
    "    seen.add(_id)\n",
    "    \n",
    "    size = sys.getsizeof(obj)\n",
    "    \n",
    "    if isinstance(obj, dict):\n",
    "        size += get_size_of_dict(obj)\n",
    "    elif hasattr(obj, '__dict__'):\n",
    "        size += get_size_of_dict(obj.__dict__)\n",
    "    elif hasattr(obj, '__iter__') and not isinstance(obj, (str, bytes, bytearray)):\n",
    "        size += sum([get_size_of(i) for i in obj])\n",
    "        \n",
    "    return size"
   ]
  },
  {
   "cell_type": "code",
   "execution_count": 17,
   "metadata": {},
   "outputs": [],
   "source": [
    "class Room:\n",
    "    def __init__(self, l, w, h, table):\n",
    "        self.lenght = l\n",
    "        self.width = w\n",
    "        self.height = h\n",
    "        self.room = table    \n",
    "\n",
    "class Table:\n",
    "    def __init__(self, l, w, h):\n",
    "        self.lenght = l\n",
    "        self.width = w\n",
    "        self.height = h"
   ]
  },
  {
   "cell_type": "code",
   "execution_count": 18,
   "metadata": {},
   "outputs": [
    {
     "name": "stdout",
     "output_type": "stream",
     "text": [
      "My get_size_of vs python's getsizeof\n",
      "Int:\t32 vs 32\n",
      "Float:\t24 vs 24\n",
      "String:\t52 vs 52\n",
      "Tuple:\t144 vs 64\n",
      "Empty list:\t64 vs 64\n",
      "List with 2 strings:\t184 vs 80\n",
      "Dict:\t400 vs 240\n",
      "Class with fields:\t661 vs 56\n"
     ]
    }
   ],
   "source": [
    "print(\"My get_size_of vs python's getsizeof\")\n",
    "print(\"Int:\\t{} vs {}\".format(get_size_of(1234567890), sys.getsizeof(1234567890)))\n",
    "print(\"Float:\\t{} vs {}\".format(get_size_of(1234567890.1), sys.getsizeof(1234567890.1)))\n",
    "print(\"String:\\t{} vs {}\".format(get_size_of('abc'), sys.getsizeof('abc')))\n",
    "print(\"Tuple:\\t{} vs {}\".format(get_size_of(('abc', 1)), sys.getsizeof(('abc', 1))))\n",
    "print(\"Empty list:\\t{} vs {}\".format(get_size_of([]), sys.getsizeof([])))\n",
    "print(\"List with 2 strings:\\t{} vs {}\".format(get_size_of(['abc', 'qwe']), sys.getsizeof(['abc', 'qwe'])))\n",
    "print(\"Dict:\\t{} vs {}\".format(get_size_of({'abc' : 1, 'qwe' : 2}), sys.getsizeof({'abc' : 1, 'qwe' : 2})))\n",
    "room = Room(1, 2, 3, Table(4, 5, 6))\n",
    "print(\"Class with fields:\\t{} vs {}\".format(get_size_of(room), sys.getsizeof(room)))"
   ]
  },
  {
   "cell_type": "code",
   "execution_count": null,
   "metadata": {},
   "outputs": [],
   "source": []
  },
  {
   "cell_type": "markdown",
   "metadata": {},
   "source": [
    "### Задача 2 [Многочлены] (0.64 балла)\n",
    "\n",
    "**Условие:**\n",
    "\n",
    "Реализовать класс многочлена. Определить операции:\n",
    "\n",
    "1) *сложения* - **(0.02 балла)**\n",
    "\n",
    "2) *вычитания* - **(0.02 балла)**\n",
    "\n",
    "3) *умножения* - **(0.04 балла)**\n",
    "\n",
    "3a) *быстрого умножения* (алгоритм Карацубы или быстрое преобразование Фурье) - **(+0.25 балла)**\n",
    "\n",
    "4) *деления* - **(0.05 балла)**\n",
    "\n",
    "5) *возведения в степень* - **(0.02 балла)** | *возведения в степень* через быстрое возведение в степень за log - **(0.04 балла)**\n",
    "\n",
    "6) *представления многочлена в человеческом виде* - **(0.02 балла)**\n",
    "\n",
    "7) *дифференцирования* - **(0.05 балла)**\n",
    "\n",
    "8) *интегрирования* - **(0.05 балла)**\n",
    "\n",
    "9) Вызова многочлена как функции (вычисление значения в точке) - **(0.03 балла)**\n",
    "\n",
    "**Комментарии:**\n",
    "\n",
    "Для комплексных коэффициентов **(0.01 балла)** к каждому пункту.\n",
    "\n",
    "Операции с числами также должны работать."
   ]
  },
  {
   "cell_type": "code",
   "execution_count": 19,
   "metadata": {},
   "outputs": [],
   "source": [
    "def foo(*l):\n",
    "    print(l)"
   ]
  },
  {
   "cell_type": "code",
   "execution_count": 20,
   "metadata": {},
   "outputs": [
    {
     "name": "stdout",
     "output_type": "stream",
     "text": [
      "([1, 2, 3],)\n"
     ]
    }
   ],
   "source": [
    "foo([1,2,3])"
   ]
  },
  {
   "cell_type": "code",
   "execution_count": 21,
   "metadata": {},
   "outputs": [
    {
     "name": "stdout",
     "output_type": "stream",
     "text": [
      "3x^3+2x^2+1x^1\n"
     ]
    }
   ],
   "source": [
    "coefs=[1,2,3]\n",
    "print(\"+\".join([\"{}x^{}\".format(coef, coef) for coef in coefs[::-1]]))"
   ]
  },
  {
   "cell_type": "code",
   "execution_count": null,
   "metadata": {},
   "outputs": [],
   "source": []
  },
  {
   "cell_type": "code",
   "execution_count": 22,
   "metadata": {},
   "outputs": [],
   "source": [
    "from itertools import zip_longest\n",
    "from copy import copy\n",
    "\n",
    "class Polynomial:\n",
    "    \n",
    "    def __init__(self, *coefs):\n",
    "        if len(coefs) == 0:\n",
    "            coefs = [0]\n",
    "        self.coefs = list(coefs)[::-1] #logic from low to high\n",
    "        self.trim()\n",
    "        \n",
    "    def __call__(self, x):    \n",
    "        return sum([coef * x ** i for i, coef in enumerate(self.coefs)])\n",
    "    \n",
    "    def degree(self):\n",
    "        return len(self.coefs) - 1   \n",
    "            \n",
    "    def __add__(self, other):\n",
    "        if isinstance(other, Polynomial):\n",
    "            res = [sum(t) for t in zip_longest(self.coefs, other.coefs, fillvalue=0)]\n",
    "            \n",
    "        else:\n",
    "            res = copy(self.coefs)\n",
    "            res[0] += other\n",
    "        return Polynomial(*res[::-1])\n",
    "    \n",
    "    def __radd__(self, other):\n",
    "        return self.__add__(other)\n",
    "    \n",
    "    def __sub__(self, other):\n",
    "        if isinstance(other, Polynomial):\n",
    "            res = [t1-t2 for t1, t2 in zip_longest(self.coefs, other.coefs, fillvalue=0)]\n",
    "        else:\n",
    "            res = copy(self.coefs)\n",
    "            res[0] -= other\n",
    "        return Polynomial(*res[::-1])\n",
    "    \n",
    "    def __rsub__(self, other):\n",
    "        return self.__sub__(other)\n",
    "    \n",
    "    def __mul__(self, other):\n",
    "        if isinstance(other, Polynomial):\n",
    "            res = [0] * (len(self.coefs) + len(other.coefs) - 1)\n",
    "            for i in range(len(self.coefs)):\n",
    "                for j in range(len(other.coefs)):\n",
    "                    res[i+j] += self.coefs[i] * self.coefs[j]\n",
    "        else:\n",
    "            res = [other * coef for coef in self.coefs]           \n",
    "        return Polynomial(*res[::-1])\n",
    "                                     \n",
    "    def __rmul__(self, other):\n",
    "        return self.__mul__(other)\n",
    "    \n",
    "    def derivate(self):\n",
    "        derived_coeffs = [i * self.coefs[i] for i in range(len(self.coefs))][1:]\n",
    "        return Polynomial(*derived_coeffs[::-1])\n",
    "    \n",
    "    def integrate(self, const=0):\n",
    "        integrated_coeffs = [const] + [1/(i+1) * self.coefs[i] for i in range(len(self.coefs))]\n",
    "        return Polynomial(*integrated_coeffs[::-1])\n",
    "    \n",
    "    def trim(self):\n",
    "        zeros_cnt = 0\n",
    "        for i in range(len(coefs)-1,-1,-1):\n",
    "            if coefs[i] == 0:\n",
    "                zeros_cnt += 1\n",
    "            else:\n",
    "                break\n",
    "        del self.coefs[len(self.coefs) - zeros_cnt:]\n",
    "        \n",
    "    def __str__(self):\n",
    "        parts = []\n",
    "        result = \"\"\n",
    "        for i, coef in enumerate(self.coefs[::-1]):\n",
    "            power = len(self.coefs) - 1 - i\n",
    "            if coef == 0:\n",
    "                continue\n",
    "\n",
    "            sign = \"+\" if coef > 0 else \"-\"\n",
    "\n",
    "            if sign == \"+\" and len(result) == 0:\n",
    "                sign = \"\"\n",
    "\n",
    "            if power == 0:\n",
    "                print_power = \"\"\n",
    "            elif power == 1: \n",
    "                print_power = \"x\"\n",
    "            else:\n",
    "                print_power = \"x^\" + str(power)\n",
    "\n",
    "\n",
    "            if abs(coef) != 1 or print_power == \"\":\n",
    "                print_coef = str(abs(coef))\n",
    "            else:\n",
    "                print_coef = \"\"\n",
    "\n",
    "            result += sign + print_coef + print_power\n",
    "        if result == \"\":\n",
    "            return \"0\"\n",
    "        return result"
   ]
  },
  {
   "cell_type": "code",
   "execution_count": 27,
   "metadata": {},
   "outputs": [
    {
     "name": "stdout",
     "output_type": "stream",
     "text": [
      "2x+1\n",
      "21\n",
      "2x+1\n",
      "-add-\n",
      "4x+2\n",
      "2x+11\n",
      "2x+11\n",
      "-sub-\n",
      "0\n",
      "2x-9\n",
      "2x-9\n",
      "-multiply-\n",
      "4x^2+4x+1\n",
      "20x+10\n",
      "20x+10\n"
     ]
    }
   ],
   "source": [
    "p1 = Polynomial(2, 1)\n",
    "p2 = Polynomial(2, 1)\n",
    "print(p1)\n",
    "print(p1(10))\n",
    "print(p2)\n",
    "\n",
    "print(\"-add-\")\n",
    "print(p1+p2)\n",
    "print(10+p1)\n",
    "print(p1+10)\n",
    "\n",
    "print(\"-sub-\")\n",
    "print(p1-p2)\n",
    "print(10-p1)\n",
    "print(p1-10)\n",
    "\n",
    "print(\"-multiply-\")\n",
    "print(p1*p2)\n",
    "print(10*p1)\n",
    "print(p1*10)\n",
    "\n"
   ]
  },
  {
   "cell_type": "markdown",
   "metadata": {},
   "source": [
    "### Задача 3 [Аналог range] (0.05 балла)\n",
    "\n",
    "**Условие:**\n",
    "\n",
    "Реализуйте итератор с поведением, аналогичным range."
   ]
  },
  {
   "cell_type": "code",
   "execution_count": 39,
   "metadata": {},
   "outputs": [
    {
     "name": "stdout",
     "output_type": "stream",
     "text": [
      "[30, 29, 28, 27, 26, 25, 24, 23, 22, 21, 20, 19, 18, 17, 16, 15, 14, 13, 12, 11]\n",
      "[30, 29, 28, 27, 26, 25, 24, 23, 22, 21, 20, 19, 18, 17, 16, 15, 14, 13, 12, 11]\n",
      "[10, 11, 12, 13, 14, 15, 16, 17, 18, 19, 20, 21, 22, 23, 24, 25, 26, 27, 28, 29]\n",
      "[10, 11, 12, 13, 14, 15, 16, 17, 18, 19, 20, 21, 22, 23, 24, 25, 26, 27, 28, 29]\n"
     ]
    }
   ],
   "source": [
    "def my_range(start, stop=None, step=1):\n",
    "    if step == 0:\n",
    "        raise ValueError('my_range() arg 3 must not be zero')\n",
    "    if not isinstance(start, int) or not isinstance(start, int) or not isinstance(step, int):\n",
    "        raise TypeError('args must be integer')\n",
    "    \n",
    "    if stop is None:\n",
    "        stop = start\n",
    "        start = 0\n",
    "    \n",
    "    if start < stop and step > 0:\n",
    "        while start < stop:\n",
    "            yield start\n",
    "            start += step\n",
    "    elif stop < start and step < 0:\n",
    "        while stop < start:\n",
    "            yield start\n",
    "            start += step\n",
    "\n",
    "start = 30\n",
    "stop = 10\n",
    "step = -1\n",
    "\n",
    "print([i for i in my_range(start, stop, step)])\n",
    "print([i for i in range(start, stop, step)])\n",
    "\n",
    "start = 10\n",
    "stop = 30\n",
    "step = 1\n",
    "\n",
    "print([i for i in my_range(start, stop, step)])\n",
    "print([i for i in range(start, stop, step)])"
   ]
  },
  {
   "cell_type": "markdown",
   "metadata": {},
   "source": [
    "### Задача 4 [Primary Key] (0.05 балла)\n",
    "\n",
    "**Условие:**\n",
    "\n",
    "С помощью механизма дескрипторов реализуйте Primary Key - свойства первичного ключа из PostgreSQL."
   ]
  },
  {
   "cell_type": "code",
   "execution_count": 29,
   "metadata": {},
   "outputs": [],
   "source": [
    "# Ограничение на PrimaryKey:\n",
    "# 1) Уникальный\n",
    "# 2) Not null\n",
    "# 3) Всего 1 PrimaryKey на класс\n",
    "\n",
    "class PrimaryKey:\n",
    "    \n",
    "    def __init__(self, name):\n",
    "        self.name = name \n",
    "    \n",
    "    def __get__(self, instance, owner):\n",
    "        return instance.__dict__[self.name]  \n",
    "    \n",
    "    def __set__(self, instance, value):\n",
    "        if self.has_sevaral_pk(instance, value):\n",
    "            raise TypeError('Должно быть одно поле Primary Key ')\n",
    "            \n",
    "        if value is None:\n",
    "            raise ValueError('Primary Key не может быть None')\n",
    "\n",
    "        if not self.is_unique(instance, value):\n",
    "            raise ValueError('Primary Key должен быть уникальным')\n",
    "            \n",
    "        instance.__dict__[self.name] = value\n",
    "    \n",
    "    def is_unique(self, instance, value):\n",
    "        if not '_existing_pk' in instance.__class__.__dict__ or instance.__class__._existing_pk is None:\n",
    "            instance.__class__._existing_pk = set()\n",
    "        result = not value in instance.__class__._existing_pk\n",
    "        instance.__class__._existing_pk.add(value)\n",
    "        return result\n",
    "    \n",
    "    def has_sevaral_pk(self, instance, value):\n",
    "        if '_already_has_pk' in instance.__dict__ and instance._already_has_pk:\n",
    "            return True\n",
    "        instance._already_has_pk = True\n",
    "        return False"
   ]
  },
  {
   "cell_type": "code",
   "execution_count": 30,
   "metadata": {},
   "outputs": [
    {
     "name": "stdout",
     "output_type": "stream",
     "text": [
      "Everything is fine\n"
     ]
    }
   ],
   "source": [
    "class PkExample1:\n",
    "    number = PrimaryKey('number') \n",
    "   \n",
    "    def __init__(self, number):\n",
    "        self.number = number\n",
    "\n",
    "i1 = PkExample1(1)\n",
    "i2 = PkExample1(2)\n",
    "i3 = PkExample1(3)\n",
    "i3 = PkExample1('a')\n",
    "i3 = PkExample1('abc')\n",
    "\n",
    "print(\"Everything is fine\")"
   ]
  },
  {
   "cell_type": "code",
   "execution_count": 31,
   "metadata": {},
   "outputs": [
    {
     "name": "stdout",
     "output_type": "stream",
     "text": [
      "Primary Key должен быть уникальным\n"
     ]
    }
   ],
   "source": [
    "class PkExample2:\n",
    "    number = PrimaryKey('number') \n",
    "   \n",
    "    def __init__(self, number):\n",
    "        self.number = number\n",
    "try:\n",
    "    i1 = PkExample2(1)\n",
    "    i1 = PkExample2(1)\n",
    "except Exception as e:\n",
    "    print(e)"
   ]
  },
  {
   "cell_type": "code",
   "execution_count": 32,
   "metadata": {},
   "outputs": [
    {
     "name": "stdout",
     "output_type": "stream",
     "text": [
      "Primary Key не может быть None\n"
     ]
    }
   ],
   "source": [
    "class PkExample3:\n",
    "    number = PrimaryKey('number') \n",
    "   \n",
    "    def __init__(self, number):\n",
    "        self.number = number\n",
    "try:\n",
    "    i1 = PkExample3(None)\n",
    "except Exception as e:\n",
    "    print(e)"
   ]
  },
  {
   "cell_type": "code",
   "execution_count": 33,
   "metadata": {},
   "outputs": [
    {
     "name": "stdout",
     "output_type": "stream",
     "text": [
      "Должно быть одно поле Primary Key \n"
     ]
    }
   ],
   "source": [
    "class PkExample4:\n",
    "    number1 = PrimaryKey('number1') \n",
    "    number2 = PrimaryKey('number2') \n",
    "   \n",
    "    def __init__(self, number1, number2):\n",
    "        self.number1 = number1\n",
    "        self.number2 = number2\n",
    "try:\n",
    "    i1 = PkExample4(1, 2)\n",
    "except Exception as e:\n",
    "    print(e)"
   ]
  },
  {
   "cell_type": "markdown",
   "metadata": {},
   "source": [
    "### Задача 5 [PositiveSmallIntegerField] (0.03 балла)\n",
    "\n",
    "**Условие:**\n",
    "\n",
    "С помощью механизма дескрипторов реализуйте тип данных PositiveSmallIntegerField - поле, принимающее значения от 0 до 32767."
   ]
  },
  {
   "cell_type": "code",
   "execution_count": 34,
   "metadata": {},
   "outputs": [],
   "source": [
    "class PositiveSmallIntegerField:\n",
    "    def __init__(self, name):\n",
    "        self.name = name \n",
    "    \n",
    "    def __get__(self, instance, owner):\n",
    "        return instance.__dict__[self.name]  \n",
    "    \n",
    "    def __set__(self, instance, value):\n",
    "        if value < 0 or value > 32767:\n",
    "            raise ValueError('Не может быть меньше 0 и больше 32767')\n",
    "        instance.__dict__[self.name] = value\n",
    "\n",
    "class Example:\n",
    "    number = PositiveSmallIntegerField('number') \n",
    "   \n",
    "    def __init__(self, number):\n",
    "        self.number = number"
   ]
  },
  {
   "cell_type": "code",
   "execution_count": 35,
   "metadata": {},
   "outputs": [],
   "source": [
    "example = Example(5)"
   ]
  },
  {
   "cell_type": "code",
   "execution_count": 36,
   "metadata": {},
   "outputs": [
    {
     "name": "stdout",
     "output_type": "stream",
     "text": [
      "Не может быть меньше 0 и больше 32767\n"
     ]
    }
   ],
   "source": [
    "try:\n",
    "    example = Example(-1)\n",
    "except Exception as e:\n",
    "    print(e)"
   ]
  },
  {
   "cell_type": "code",
   "execution_count": 37,
   "metadata": {},
   "outputs": [
    {
     "name": "stdout",
     "output_type": "stream",
     "text": [
      "Не может быть меньше 0 и больше 32767\n"
     ]
    }
   ],
   "source": [
    "try:\n",
    "    example = Example(32768)\n",
    "except Exception as e:\n",
    "    print(e)"
   ]
  },
  {
   "cell_type": "markdown",
   "metadata": {},
   "source": [
    "### Задача 6 [Timer] (0.02 балла)\n",
    "\n",
    "**Условие:**\n",
    "\n",
    "Реализовать контекстный менеджер, который выводит время, проведенное в нём."
   ]
  },
  {
   "cell_type": "code",
   "execution_count": 38,
   "metadata": {},
   "outputs": [
    {
     "name": "stdout",
     "output_type": "stream",
     "text": [
      "Enter in TimerContextManager\n",
      "Time in context manager: 0:00:03.000592\n",
      "Exit from TimerContextManager\n"
     ]
    }
   ],
   "source": [
    "import datetime\n",
    "import time\n",
    "\n",
    "class TimerContextManager:\n",
    "    \n",
    "    def __enter__(self):\n",
    "        self.enter_time = datetime.datetime.now()\n",
    "\n",
    "    def __exit__(self, exc_type, exc_val, exc_tb):\n",
    "        interval = datetime.datetime.now() - self.enter_time\n",
    "        print(f'Time in context manager: {interval}')\n",
    "        \n",
    "\n",
    "with TimerContextManager():\n",
    "    print(\"Enter in TimerContextManager\")\n",
    "    time.sleep(3)\n",
    "\n",
    "print(\"Exit from TimerContextManager\")"
   ]
  },
  {
   "cell_type": "code",
   "execution_count": null,
   "metadata": {},
   "outputs": [],
   "source": []
  },
  {
   "cell_type": "code",
   "execution_count": null,
   "metadata": {},
   "outputs": [],
   "source": []
  },
  {
   "cell_type": "code",
   "execution_count": null,
   "metadata": {},
   "outputs": [],
   "source": []
  }
 ],
 "metadata": {
  "kernelspec": {
   "display_name": "Python 3",
   "language": "python",
   "name": "python3"
  },
  "language_info": {
   "codemirror_mode": {
    "name": "ipython",
    "version": 3
   },
   "file_extension": ".py",
   "mimetype": "text/x-python",
   "name": "python",
   "nbconvert_exporter": "python",
   "pygments_lexer": "ipython3",
   "version": "3.7.3"
  }
 },
 "nbformat": 4,
 "nbformat_minor": 2
}
